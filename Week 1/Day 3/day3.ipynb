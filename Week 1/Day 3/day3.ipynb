{
  "nbformat": 4,
  "nbformat_minor": 0,
  "metadata": {
    "colab": {
      "provenance": []
    },
    "kernelspec": {
      "name": "python3",
      "display_name": "Python 3"
    },
    "language_info": {
      "name": "python"
    }
  },
  "cells": [
    {
      "cell_type": "markdown",
      "source": [
        "##**DAY 3**"
      ],
      "metadata": {
        "id": "YT4wh-dl8xbh"
      }
    },
    {
      "cell_type": "code",
      "source": [
        "#String manupulation\n",
        "#creating texgt with leading and trailing spaces\n",
        "text='   Hello Python    '\n",
        "print(text)\n",
        "\n",
        "\n",
        "#using .lower() method\n",
        "print(text.lower())\n",
        "\n",
        "#using .upper() method\n",
        "print(text.upper())\n",
        "\n",
        "#using .strip() method\n",
        "print(text.strip())\n",
        "\n",
        "#using .replace() method\n",
        "print(text.replace(\"thon\",\"horn\"))\n",
        "\n",
        "#splitting and joining\n",
        "splitted =text.strip().split() #method chaining\n",
        "print(splitted)\n",
        "\n",
        "#using .join() method to join the seperated words\n",
        "joined='-'.join(splitted)\n",
        "print(joined)"
      ],
      "metadata": {
        "colab": {
          "base_uri": "https://localhost:8080/"
        },
        "id": "haz0-dRWANoa",
        "outputId": "7d0219cd-d257-44a5-cb7b-2ac3268b073d"
      },
      "execution_count": null,
      "outputs": [
        {
          "output_type": "stream",
          "name": "stdout",
          "text": [
            "   Hello Python    \n",
            "   hello python    \n",
            "   HELLO PYTHON    \n",
            "Hello Python\n",
            "   Hello Pyhorn    \n",
            "['Hello', 'Python']\n",
            "Hello-Python\n"
          ]
        }
      ]
    },
    {
      "cell_type": "markdown",
      "source": [
        "##**MODULAR PROGRAMMING IN PYTHON**"
      ],
      "metadata": {
        "id": "9PqGkfrkCszx"
      }
    },
    {
      "cell_type": "code",
      "source": [
        "#importing math module\n",
        "import math\n",
        "\n",
        "#square root\n",
        "# sq_rt=math.sqrt(36)\n",
        "# print(\"The square root of 36 is\",int(sq_rt))\n",
        "\n",
        "\n",
        "\n",
        "#FLOORING AND CEILING\n",
        "floor= math.floor(4.8)\n",
        "print(floor)\n",
        "ceil = math.ceil(4.8)\n",
        "print(ceil)\n"
      ],
      "metadata": {
        "colab": {
          "base_uri": "https://localhost:8080/"
        },
        "id": "1LEjJvvCDOGO",
        "outputId": "e9eaf91a-3e4b-44d8-b64c-2ba55595e245"
      },
      "execution_count": null,
      "outputs": [
        {
          "output_type": "stream",
          "name": "stdout",
          "text": [
            "4\n",
            "5\n"
          ]
        }
      ]
    },
    {
      "cell_type": "markdown",
      "source": [
        "##**MODULE ALIASING**"
      ],
      "metadata": {
        "id": "8F446KwTEJOW"
      }
    },
    {
      "cell_type": "code",
      "source": [
        "# import matplotlib.pyplot as plt\n"
      ],
      "metadata": {
        "id": "HG3hUZf4EQPy"
      },
      "execution_count": null,
      "outputs": []
    },
    {
      "cell_type": "markdown",
      "source": [
        "##**VARIABLE ALISING**"
      ],
      "metadata": {
        "id": "k03WmSbyEakV"
      }
    },
    {
      "cell_type": "code",
      "source": [
        "a=[1,2,3]\n",
        "b=a\n",
        "b.append(4)#reflect with a changing in b\n",
        "print(b)\n",
        "print(a)\n",
        "\n"
      ],
      "metadata": {
        "colab": {
          "base_uri": "https://localhost:8080/"
        },
        "id": "3UVPLJiEEhSw",
        "outputId": "9a86df79-5359-486e-c2bd-c72c0d96c17d"
      },
      "execution_count": null,
      "outputs": [
        {
          "output_type": "stream",
          "name": "stdout",
          "text": [
            "[1, 2, 3, 4]\n",
            "[1, 2, 3, 4]\n"
          ]
        }
      ]
    },
    {
      "cell_type": "markdown",
      "source": [
        "##**FUNCTION/METHOD ALIASING**"
      ],
      "metadata": {
        "id": "vVGF0fW9FJFg"
      }
    },
    {
      "cell_type": "markdown",
      "source": [
        "##**RANDOMS IN PYTHON**"
      ],
      "metadata": {
        "id": "ah1sc1Z5FTfV"
      }
    },
    {
      "cell_type": "code",
      "source": [
        "import random as rdn\n",
        "print(rdn.randint(1,10))\n"
      ],
      "metadata": {
        "colab": {
          "base_uri": "https://localhost:8080/"
        },
        "id": "Rcap6oJSFaR3",
        "outputId": "c7781c04-e743-49bd-a6a0-ff8f857c44ec"
      },
      "execution_count": null,
      "outputs": [
        {
          "output_type": "stream",
          "name": "stdout",
          "text": [
            "8\n",
            "0.09089188165801165\n"
          ]
        }
      ]
    },
    {
      "cell_type": "code",
      "source": [
        "random_float=rdn.random()\n",
        "print(random_float)"
      ],
      "metadata": {
        "colab": {
          "base_uri": "https://localhost:8080/"
        },
        "id": "zRWQejIcF7gt",
        "outputId": "8cf2a354-5733-4408-f2d1-16900db2188f"
      },
      "execution_count": null,
      "outputs": [
        {
          "output_type": "stream",
          "name": "stdout",
          "text": [
            "0.3123852174538295\n"
          ]
        }
      ]
    },
    {
      "cell_type": "code",
      "source": [
        "random_floating_in_range = rdn.uniform(10.5,99.5)\n",
        "print(random_floating_in_range)"
      ],
      "metadata": {
        "colab": {
          "base_uri": "https://localhost:8080/"
        },
        "id": "ekt2clU6GEqC",
        "outputId": "5185c7ce-81e5-482e-b65b-5652b5fedce4"
      },
      "execution_count": null,
      "outputs": [
        {
          "output_type": "stream",
          "name": "stdout",
          "text": [
            "55.39074989605443\n"
          ]
        }
      ]
    },
    {
      "cell_type": "markdown",
      "source": [
        "EXPLORE MORE MODULES OR FUNCTIONS/METHODS"
      ],
      "metadata": {
        "id": "ydlC91BJGWuX"
      }
    },
    {
      "cell_type": "markdown",
      "source": [
        "##**CREATING CUSTOM MODULES IN PYTHON**"
      ],
      "metadata": {
        "id": "vR0_vfJKGz2u"
      }
    },
    {
      "cell_type": "code",
      "source": [
        "#helper.py\n",
        "%%writefile helper12.py\n",
        "def add_number(a,b):\n",
        "  return a + b\n"
      ],
      "metadata": {
        "colab": {
          "base_uri": "https://localhost:8080/"
        },
        "id": "uiCwungcG9wO",
        "outputId": "ed71311f-6645-4963-800e-c77dc55cd3fc"
      },
      "execution_count": null,
      "outputs": [
        {
          "output_type": "stream",
          "name": "stdout",
          "text": [
            "Writing helper12.py\n"
          ]
        }
      ]
    },
    {
      "cell_type": "code",
      "source": [
        "#main.py\n",
        "import helper12\n",
        "result = helper12.add_number(2,3)\n",
        "print(result)"
      ],
      "metadata": {
        "colab": {
          "base_uri": "https://localhost:8080/"
        },
        "id": "-B8YoPEDHNSn",
        "outputId": "35f18e57-7d56-46f9-8162-724fd5d651c1"
      },
      "execution_count": null,
      "outputs": [
        {
          "output_type": "stream",
          "name": "stdout",
          "text": [
            "5\n"
          ]
        }
      ]
    },
    {
      "cell_type": "markdown",
      "source": [
        "##**ASSINGMENT**"
      ],
      "metadata": {
        "id": "9XEY4KTBQySZ"
      }
    },
    {
      "cell_type": "markdown",
      "source": [
        "sine of 30 deg using math"
      ],
      "metadata": {
        "id": "PYXBN2_8Q4Np"
      }
    },
    {
      "cell_type": "code",
      "source": [
        "import math\n",
        "a= math.sin(math.radians(30))\n",
        "print(a)"
      ],
      "metadata": {
        "id": "zGNzf4J0JkHn",
        "colab": {
          "base_uri": "https://localhost:8080/"
        },
        "outputId": "0d895119-0de5-4e35-faf7-e8dae1e0225a"
      },
      "execution_count": null,
      "outputs": [
        {
          "output_type": "stream",
          "name": "stdout",
          "text": [
            "0.49999999999999994\n"
          ]
        }
      ]
    },
    {
      "cell_type": "markdown",
      "source": [
        "Random as rng"
      ],
      "metadata": {
        "id": "GvK7GhYISD3U"
      }
    },
    {
      "cell_type": "code",
      "source": [
        "import random as rng\n",
        "random_number=rng.randint(50,75)\n",
        "print(random_number)"
      ],
      "metadata": {
        "colab": {
          "base_uri": "https://localhost:8080/"
        },
        "id": "E_Uh7X23SGWL",
        "outputId": "2b07ba94-6b49-4c93-e0c7-158cbe4844d6"
      },
      "execution_count": null,
      "outputs": [
        {
          "output_type": "stream",
          "name": "stdout",
          "text": [
            "54\n"
          ]
        }
      ]
    },
    {
      "cell_type": "markdown",
      "source": [
        "Making calc.py module"
      ],
      "metadata": {
        "id": "6yFt0YzcSjTn"
      }
    },
    {
      "cell_type": "code",
      "source": [
        "%%writefile cal1.py\n",
        "def square(x):\n",
        "  return x*x"
      ],
      "metadata": {
        "colab": {
          "base_uri": "https://localhost:8080/"
        },
        "id": "Hi6ItVkipo1I",
        "outputId": "a4c6999d-63b5-45ce-fa46-f7c1c23c0290"
      },
      "execution_count": null,
      "outputs": [
        {
          "output_type": "stream",
          "name": "stdout",
          "text": [
            "Writing cal1.py\n"
          ]
        }
      ]
    },
    {
      "cell_type": "code",
      "source": [
        "import cal1\n",
        "print(cal1.square(3))"
      ],
      "metadata": {
        "colab": {
          "base_uri": "https://localhost:8080/"
        },
        "id": "GhskSZcXpuVR",
        "outputId": "bc5c556d-f9f5-4cb4-8a8f-9d4aa38dd237"
      },
      "execution_count": null,
      "outputs": [
        {
          "output_type": "stream",
          "name": "stdout",
          "text": [
            "9\n"
          ]
        }
      ]
    },
    {
      "cell_type": "markdown",
      "source": [
        "import choice from random\n"
      ],
      "metadata": {
        "id": "HWN1BFwq4l13"
      }
    },
    {
      "cell_type": "code",
      "source": [
        "import random\n",
        "fruits=['Mango','Apple','Grapes']\n",
        "fruit=random.choice(fruits)\n",
        "print(fruit)"
      ],
      "metadata": {
        "colab": {
          "base_uri": "https://localhost:8080/"
        },
        "id": "VRsOpKQj4pfs",
        "outputId": "9ca410e9-e0d8-48ad-b5ae-3c48ba02acd6"
      },
      "execution_count": null,
      "outputs": [
        {
          "output_type": "stream",
          "name": "stdout",
          "text": [
            "Mango\n"
          ]
        }
      ]
    }
  ]
}