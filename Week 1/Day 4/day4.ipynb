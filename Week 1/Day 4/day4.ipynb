{
  "nbformat": 4,
  "nbformat_minor": 0,
  "metadata": {
    "colab": {
      "provenance": []
    },
    "kernelspec": {
      "name": "python3",
      "display_name": "Python 3"
    },
    "language_info": {
      "name": "python"
    }
  },
  "cells": [
    {
      "cell_type": "markdown",
      "source": [
        "##**FILE HANDLING & EXCEPTION**"
      ],
      "metadata": {
        "id": "k9_f4ntO4JjG"
      }
    },
    {
      "cell_type": "markdown",
      "source": [
        "#OPENING AND READING A FILE"
      ],
      "metadata": {
        "id": "Pe9LCaww4etX"
      }
    },
    {
      "cell_type": "code",
      "source": [
        "f=open('file.txt','r')\n",
        "#print(f.readline())\n",
        "#print(f.readlines())\n",
        "print(f.read(12)) #to read up to the umber given from first\n",
        "f.close()"
      ],
      "metadata": {
        "colab": {
          "base_uri": "https://localhost:8080/"
        },
        "id": "Ro85Zac24WPA",
        "outputId": "5b4671ff-72e3-4d1c-92ea-c30ca5ebc18e"
      },
      "execution_count": null,
      "outputs": [
        {
          "output_type": "stream",
          "name": "stdout",
          "text": [
            "Hi everyone \n"
          ]
        }
      ]
    },
    {
      "cell_type": "markdown",
      "source": [
        "with operation"
      ],
      "metadata": {
        "id": "LubQ9tYw6eeK"
      }
    },
    {
      "cell_type": "code",
      "execution_count": null,
      "metadata": {
        "colab": {
          "base_uri": "https://localhost:8080/"
        },
        "id": "vZuJ1HYG4AjF",
        "outputId": "bf787e0f-b84b-4479-c392-db62a771ec6c"
      },
      "outputs": [
        {
          "output_type": "stream",
          "name": "stdout",
          "text": [
            "Hi everyone , my name is lubik newa. Currently, I am pursuing BIM at prime\n",
            "\n"
          ]
        }
      ],
      "source": [
        "with open('file.txt','r') as f:\n",
        "    print(f.readline()) #space should be keep infront"
      ]
    },
    {
      "cell_type": "markdown",
      "source": [
        "# WRITE MODE"
      ],
      "metadata": {
        "id": "kPnop8ki637i"
      }
    },
    {
      "cell_type": "code",
      "source": [
        "f=open('file.txt','w')\n",
        "f.write(\"I will clear everything an i will be there\")\n",
        "f.close()"
      ],
      "metadata": {
        "id": "kdtG471F6-EZ"
      },
      "execution_count": null,
      "outputs": []
    },
    {
      "cell_type": "markdown",
      "source": [
        "#'with' OPERATION"
      ],
      "metadata": {
        "id": "T4I9Zr8_7RA6"
      }
    },
    {
      "cell_type": "code",
      "source": [
        "with open('file.txt','w') as f:\n",
        "  f.write(\"I will clear aaaa everything\")"
      ],
      "metadata": {
        "id": "nbwwV_eL7XIV"
      },
      "execution_count": null,
      "outputs": []
    },
    {
      "cell_type": "markdown",
      "source": [
        "#APPEND MODE"
      ],
      "metadata": {
        "id": "s-BXHDyW7xwP"
      }
    },
    {
      "cell_type": "code",
      "source": [
        "f= open('file.txt','a')\n",
        "f.write(\"add with\")\n",
        "f.close()"
      ],
      "metadata": {
        "id": "cqCuWlkm70s0"
      },
      "execution_count": null,
      "outputs": []
    },
    {
      "cell_type": "markdown",
      "source": [
        "#DELETE A FILE/ FOLDER"
      ],
      "metadata": {
        "id": "OoxEDiko8Djs"
      }
    },
    {
      "cell_type": "code",
      "source": [
        "import os\n",
        "# os.remove('file.txt')#delete the file\n",
        "os.rmdir(\"/content/Delete\")"
      ],
      "metadata": {
        "id": "JvH3Bn7I8Jou"
      },
      "execution_count": null,
      "outputs": []
    },
    {
      "cell_type": "markdown",
      "source": [
        "##**CLASSWORK**"
      ],
      "metadata": {
        "id": "u6Ss9Chi9L4v"
      }
    },
    {
      "cell_type": "code",
      "source": [
        "#reading the file content\n",
        "\n",
        "# with open('data.txt','r') as fp:\n",
        "#   print(fp.read())"
      ],
      "metadata": {
        "colab": {
          "base_uri": "https://localhost:8080/"
        },
        "id": "w6xmo9_h9SLV",
        "outputId": "a19270aa-66ec-4af7-b5c1-5e604690efb3"
      },
      "execution_count": null,
      "outputs": [
        {
          "output_type": "stream",
          "name": "stdout",
          "text": [
            "Lorem Ipsum is simply dummy text of the printing and typesetting industry. Lorem Ipsum has been the industry's standard dummy text ever since the 1500s, when an unknown printer took a galley of type and scrambled it to make a type specimen book. It has survived not only five centuries, but also the leap into electronic typesetting, remaining essentially unchanged. It was popularised in the 1960s with the release of Letraset sheets containing Lorem Ipsum passages, and more recently with desktop publishing software like Aldus PageMaker including versions of Lorem Ipsum.\n"
          ]
        }
      ]
    },
    {
      "cell_type": "code",
      "source": [
        "# #write ing file user.txt from user\n",
        "# name=str(input(\"Enter name\"))\n",
        "# with open('user.txt','w') as fw:\n",
        "#   fw.write(name)"
      ],
      "metadata": {
        "colab": {
          "base_uri": "https://localhost:8080/"
        },
        "id": "vq9dUj3I95fq",
        "outputId": "d3deb287-e907-40ce-810b-f09c0ccedf8a"
      },
      "execution_count": null,
      "outputs": [
        {
          "name": "stdout",
          "output_type": "stream",
          "text": [
            "Enter nameLubik\n"
          ]
        }
      ]
    },
    {
      "cell_type": "code",
      "source": [
        "# #countin the word of file.txt\n",
        "# with open('user.txt','r') as fr:\n",
        "#   data=fr.read()\n",
        "#   count=len(data.split( ))\n",
        "#   print(count)"
      ],
      "metadata": {
        "colab": {
          "base_uri": "https://localhost:8080/"
        },
        "id": "Qn6qAmTn-tdi",
        "outputId": "5bda00ad-44b2-40ec-c567-5a49b53ebdf0"
      },
      "execution_count": null,
      "outputs": [
        {
          "output_type": "stream",
          "name": "stdout",
          "text": [
            "2\n"
          ]
        }
      ]
    },
    {
      "cell_type": "code",
      "source": [
        "#Appending\n",
        "# with open('notes.txt','a') as fa:\n",
        "#   fa.write(\"I am append and i will create new\")"
      ],
      "metadata": {
        "id": "3v1Imy9cBFtK"
      },
      "execution_count": null,
      "outputs": []
    },
    {
      "cell_type": "code",
      "source": [
        "#calculating the sum of lines\n",
        "# with open('data.txt','r') as fr:\n",
        "#   arr=fr.readlines()\n",
        "#   count=0\n",
        "#   b=1\n",
        "#   for a in arr:\n",
        "#     count+=b\n",
        "#     b+=1\n",
        "\n",
        "#   print(count)\n",
        "\n"
      ],
      "metadata": {
        "colab": {
          "base_uri": "https://localhost:8080/"
        },
        "id": "SY8JfRHjCXoc",
        "outputId": "85b777a8-5ea8-4f04-b844-fd1504810e75"
      },
      "execution_count": null,
      "outputs": [
        {
          "output_type": "stream",
          "name": "stdout",
          "text": [
            "78\n"
          ]
        }
      ]
    },
    {
      "cell_type": "markdown",
      "source": [
        "##**ERROR HANDLING**"
      ],
      "metadata": {
        "id": "11Czw2LDEO16"
      }
    },
    {
      "cell_type": "code",
      "source": [
        "c= 6\n",
        "print(c)"
      ],
      "metadata": {
        "id": "libDJxBpEy0h"
      },
      "execution_count": null,
      "outputs": []
    },
    {
      "cell_type": "code",
      "source": [
        "try:\n",
        "  print(x)\n",
        "except NameError:\n",
        "  print(\"Invalid\")"
      ],
      "metadata": {
        "colab": {
          "base_uri": "https://localhost:8080/"
        },
        "id": "87YOfYzEESv8",
        "outputId": "20eab327-a939-4f1c-ce31-e9ca042e36bd"
      },
      "execution_count": null,
      "outputs": [
        {
          "output_type": "stream",
          "name": "stdout",
          "text": [
            "Invalid\n"
          ]
        }
      ]
    }
  ]
}