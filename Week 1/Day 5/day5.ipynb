{
  "nbformat": 4,
  "nbformat_minor": 0,
  "metadata": {
    "colab": {
      "provenance": []
    },
    "kernelspec": {
      "name": "python3",
      "display_name": "Python 3"
    },
    "language_info": {
      "name": "python"
    }
  },
  "cells": [
    {
      "cell_type": "markdown",
      "source": [
        "##**NUMPY BASICS**"
      ],
      "metadata": {
        "id": "w9DcS4Hm4cQ7"
      }
    },
    {
      "cell_type": "markdown",
      "source": [
        "CREATING A NUMPY ARRAY AND ITS ATTRIBUTES"
      ],
      "metadata": {
        "id": "oYVs_Vio4xk2"
      }
    },
    {
      "cell_type": "code",
      "source": [
        "# #importing numpy library\n",
        "# import numpy as np\n",
        "# #creating a list\n",
        "# my_list=[1,2,3,4,5]\n",
        "# #changing thr list into a 1-D numpy array\n",
        "# my_array=np.array(my_list)\n",
        "# #printing thr array\n",
        "# print(my_array)\n",
        "\n",
        "# #creating 0-D numpy array\n",
        "# zero_array=np.array(42)\n",
        "# #printing thr 0-D numpy array\n",
        "# print(zero_array)\n",
        "\n",
        "# #instead of creating a list on a seperate variable we can directly passs that list to .array() function like this:\n",
        "# my_array=np.array([1,2,3,4,5])\n",
        "# #printing the 1-D numpy array\n",
        "# print(my_array)\n",
        "\n",
        "\n",
        "# #lets create a 2-D array!\n",
        "# two_d_array=np.array([[1,2,3],\n",
        "#                      [4,5,6]])\n",
        "# #printing the 2-D numpy array\n",
        "# print(two_d_array)\n",
        "\n",
        "\n",
        "#lets create 3-D array\n",
        "three_d_array=np.array([[[1,2,3],\n",
        "                     [4,5,6]],\n",
        "                        [[7,8,9],\n",
        "                        [10,11,12]]])\n",
        "#printing the 2-D numpy array\n",
        "print(three_d_array)"
      ],
      "metadata": {
        "colab": {
          "base_uri": "https://localhost:8080/"
        },
        "id": "PiDxrcsh4vKE",
        "outputId": "949f1bd5-3c35-4fad-d0d9-3cac9e203d31"
      },
      "execution_count": null,
      "outputs": [
        {
          "output_type": "stream",
          "name": "stdout",
          "text": [
            "[[[ 1  2  3]\n",
            "  [ 4  5  6]]\n",
            "\n",
            " [[ 7  8  9]\n",
            "  [10 11 12]]]\n"
          ]
        }
      ]
    },
    {
      "cell_type": "code",
      "source": [
        "#lets create an array and see its attribute\n",
        "my_array=np.array([[1,2,3],[4,5,6]])\n",
        "print(my_array)#print array\n",
        "print(my_array.ndim)#print array dimension\n",
        "print(my_array.shape)#print the array shape\n",
        "print(my_array.dtype)#print array type\n",
        "print(my_array.size)#print array size"
      ],
      "metadata": {
        "colab": {
          "base_uri": "https://localhost:8080/"
        },
        "id": "LdbGUqH97WZK",
        "outputId": "a01fd815-15e5-490e-a6d5-288349e35a7a"
      },
      "execution_count": null,
      "outputs": [
        {
          "output_type": "stream",
          "name": "stdout",
          "text": [
            "[[1 2 3]\n",
            " [4 5 6]]\n",
            "2\n",
            "(2, 3)\n",
            "int64\n",
            "6\n"
          ]
        }
      ]
    },
    {
      "cell_type": "markdown",
      "source": [
        "ACCESSING SND MANIPULATING ARRAY ELEMENTS"
      ],
      "metadata": {
        "id": "sVtDTPXF9CCM"
      }
    },
    {
      "cell_type": "code",
      "source": [
        "#lets create a 1-D array and print one of its elemets\n",
        "one_arr=np.array([1,2,3,4,5,6])\n",
        "print(one_arr[4])\n",
        "\n",
        "#lets print using negative indexing\n",
        "print(one_arr[-3])"
      ],
      "metadata": {
        "colab": {
          "base_uri": "https://localhost:8080/"
        },
        "id": "3gBJHt0l9HUJ",
        "outputId": "0150a763-4ff2-4a91-c492-e671f090b48a"
      },
      "execution_count": null,
      "outputs": [
        {
          "output_type": "stream",
          "name": "stdout",
          "text": [
            "5\n",
            "4\n"
          ]
        }
      ]
    },
    {
      "cell_type": "code",
      "source": [
        "#lets do for two D array\n",
        "two_arr=np.array([[1,2,3],\n",
        "                  [4,5,6]])\n",
        "print(two_arr[0,2])"
      ],
      "metadata": {
        "colab": {
          "base_uri": "https://localhost:8080/"
        },
        "id": "baWPaKk19l0v",
        "outputId": "f09f2c24-40bc-47d1-9e2a-44224c9638fb"
      },
      "execution_count": null,
      "outputs": [
        {
          "output_type": "stream",
          "name": "stdout",
          "text": [
            "3\n"
          ]
        }
      ]
    },
    {
      "cell_type": "code",
      "source": [
        "#lets move to s 3_D srray\n",
        "three_arr=np.array([[[1,2,3],[4,5,6]],   [[7,8,9],[10,11,12]]])\n",
        "print(three_arr)\n",
        "print(three_arr[1,0,0])\n",
        "print(three_arr[0,0,2])\n"
      ],
      "metadata": {
        "colab": {
          "base_uri": "https://localhost:8080/"
        },
        "id": "bC7H-Kts-Uuc",
        "outputId": "972ebc90-b39a-4fb7-f2a7-ae24363babe3"
      },
      "execution_count": null,
      "outputs": [
        {
          "output_type": "stream",
          "name": "stdout",
          "text": [
            "[[[ 1  2  3]\n",
            "  [ 4  5  6]]\n",
            "\n",
            " [[ 7  8  9]\n",
            "  [10 11 12]]]\n",
            "7\n",
            "3\n"
          ]
        }
      ]
    },
    {
      "cell_type": "markdown",
      "source": [
        "NEGATIVE INDEXING"
      ],
      "metadata": {
        "id": "0F0RBAUVA6lA"
      }
    },
    {
      "cell_type": "code",
      "source": [
        "three_arr=np.array([[[1,2,3],[4,5,6]],   [[7,8,9],[10,11,12]]])\n",
        "print(three_arr[-1,-2,-3])"
      ],
      "metadata": {
        "colab": {
          "base_uri": "https://localhost:8080/"
        },
        "id": "hBfFj12FA3rF",
        "outputId": "0de4bdde-5b63-4386-8a72-2a496545aee4"
      },
      "execution_count": null,
      "outputs": [
        {
          "output_type": "stream",
          "name": "stdout",
          "text": [
            "7\n"
          ]
        }
      ]
    },
    {
      "cell_type": "markdown",
      "source": [
        "SLICING ARRAY\n"
      ],
      "metadata": {
        "id": "FqBajLoTBfrt"
      }
    },
    {
      "cell_type": "code",
      "source": [
        "# important slicing concepts\n",
        "# array[start:end]\n",
        "# array[start:end:steps]\n",
        "\n",
        "#SLICING ARRAY FROM 0TH INDEX TO 8TH INDEX\n",
        "my_array =np.array([1,2,3,4,5,6,7,8,9,10])\n",
        "print(my_array[0:8])\n",
        "\n"
      ],
      "metadata": {
        "colab": {
          "base_uri": "https://localhost:8080/"
        },
        "id": "BRylhcX_BhZR",
        "outputId": "72dd942e-6807-43e0-9b96-197c9c61c39a"
      },
      "execution_count": null,
      "outputs": [
        {
          "output_type": "stream",
          "name": "stdout",
          "text": [
            "[1 2 3 4 5 6 7 8]\n"
          ]
        }
      ]
    },
    {
      "cell_type": "code",
      "source": [
        "#slicing with steps\n",
        "my_new_array=np.array([1,2,3,4,5,6,7,8,9,10])\n",
        "print(my_new_array[0:9:2])"
      ],
      "metadata": {
        "colab": {
          "base_uri": "https://localhost:8080/"
        },
        "id": "eMo_5QLqCneN",
        "outputId": "5c757893-d920-40da-ed88-2e813193a039"
      },
      "execution_count": null,
      "outputs": [
        {
          "output_type": "stream",
          "name": "stdout",
          "text": [
            "[1 3 5 7 9]\n"
          ]
        }
      ]
    },
    {
      "cell_type": "code",
      "source": [
        "# slicing with two D array\n",
        "my_two_d=np.array([[1,2,3,4,5,6,7,8,9],[10,11,12,13,14,15,16,17,18]])\n",
        "print(my_two_d[1,0:6])"
      ],
      "metadata": {
        "colab": {
          "base_uri": "https://localhost:8080/"
        },
        "id": "IAWfNGwHD0Ok",
        "outputId": "9dd2d148-f294-49a1-cb7f-1a2105b2d63c"
      },
      "execution_count": null,
      "outputs": [
        {
          "output_type": "stream",
          "name": "stdout",
          "text": [
            "[10 11 12 13 14 15]\n"
          ]
        }
      ]
    },
    {
      "cell_type": "code",
      "source": [
        "# slicing with steps for two D array\n",
        "my_two_d=np.array([[1,2,3,4,5,6,7,8,9],[10,11,12,13,14,15,16,17,18]])\n",
        "print(my_two_d[0,3:6])"
      ],
      "metadata": {
        "colab": {
          "base_uri": "https://localhost:8080/"
        },
        "id": "0gptMwwDEXFk",
        "outputId": "8794177c-e094-491f-f5e1-a4d88aba3210"
      },
      "execution_count": null,
      "outputs": [
        {
          "output_type": "stream",
          "name": "stdout",
          "text": [
            "[4 5 6]\n"
          ]
        }
      ]
    },
    {
      "cell_type": "code",
      "source": [
        "np.ones([3,3])"
      ],
      "metadata": {
        "colab": {
          "base_uri": "https://localhost:8080/"
        },
        "id": "wiOhlWy3FL_-",
        "outputId": "20dc94ca-760d-4042-d990-5448fb26c9f4"
      },
      "execution_count": null,
      "outputs": [
        {
          "output_type": "execute_result",
          "data": {
            "text/plain": [
              "array([[1., 1., 1.],\n",
              "       [1., 1., 1.],\n",
              "       [1., 1., 1.]])"
            ]
          },
          "metadata": {},
          "execution_count": 42
        }
      ]
    },
    {
      "cell_type": "code",
      "source": [
        "np.zeros([2,3])"
      ],
      "metadata": {
        "colab": {
          "base_uri": "https://localhost:8080/"
        },
        "id": "Q4KTEGnzFRP7",
        "outputId": "c14af547-f65f-41d9-b300-58e0fbc1c489"
      },
      "execution_count": null,
      "outputs": [
        {
          "output_type": "execute_result",
          "data": {
            "text/plain": [
              "array([[0., 0., 0.],\n",
              "       [0., 0., 0.]])"
            ]
          },
          "metadata": {},
          "execution_count": 43
        }
      ]
    },
    {
      "cell_type": "markdown",
      "source": [
        "#**CLASSWORK**"
      ],
      "metadata": {
        "id": "XVCiRSexFcy3"
      }
    },
    {
      "cell_type": "code",
      "source": [
        "#create a numpy array from list\n",
        "alist=[7,14,21,28]\n",
        "print(np.array(alist))"
      ],
      "metadata": {
        "colab": {
          "base_uri": "https://localhost:8080/"
        },
        "id": "5Cr0imiOFg-u",
        "outputId": "f7261f99-9a8c-46a1-d1ef-bcb4f3b811d1"
      },
      "execution_count": null,
      "outputs": [
        {
          "output_type": "stream",
          "name": "stdout",
          "text": [
            "[ 7 14 21 28]\n"
          ]
        }
      ]
    },
    {
      "cell_type": "code",
      "source": [
        "#printing two D arrays shape and dimension number\n",
        "two_array=np.array([[5,10,15],[20,25,30]])\n",
        "print(\"The shape of array is\",two_array.shape)\n",
        "print(\"The dimension of array is\",two_array.ndim)"
      ],
      "metadata": {
        "colab": {
          "base_uri": "https://localhost:8080/"
        },
        "id": "XYbmJC4wGEzp",
        "outputId": "5ee3c5e8-396f-4e6b-bf55-476daa7df13b"
      },
      "execution_count": null,
      "outputs": [
        {
          "output_type": "stream",
          "name": "stdout",
          "text": [
            "The shape of array is (2, 3)\n",
            "The dimension of array is 2\n"
          ]
        }
      ]
    },
    {
      "cell_type": "code",
      "source": [
        "#creating zeros array and using .arange(0,12) with step 3\n",
        "zer=np.zeros([2,3])\n",
        "print(zer)\n",
        "\n",
        "arr= np.arange(0,12,3)\n",
        "print(arr)"
      ],
      "metadata": {
        "colab": {
          "base_uri": "https://localhost:8080/"
        },
        "id": "Kr-rujXkHAgu",
        "outputId": "2be958f4-873f-4674-d2a8-bd9ade2c20ac"
      },
      "execution_count": null,
      "outputs": [
        {
          "output_type": "stream",
          "name": "stdout",
          "text": [
            "[[0. 0. 0.]\n",
            " [0. 0. 0.]]\n",
            "[0 3 6 9]\n"
          ]
        }
      ]
    },
    {
      "cell_type": "code",
      "source": [
        "#creating array and multiplying by 3\n",
        "arr=np.array([2,4,6,8])\n",
        "print(arr*3)"
      ],
      "metadata": {
        "colab": {
          "base_uri": "https://localhost:8080/"
        },
        "id": "D4t4ugU3Jg-S",
        "outputId": "c0d3a47c-ea8e-4c2b-bfb5-ff896fc0cc9f"
      },
      "execution_count": null,
      "outputs": [
        {
          "output_type": "stream",
          "name": "stdout",
          "text": [
            "[ 6 12 18 24]\n"
          ]
        }
      ]
    },
    {
      "cell_type": "code",
      "source": [
        "#creating array and printing third element and slicing from 1 to 3\n",
        "arr=np.array([1,3,5,7,9])\n",
        "print(arr[3])\n",
        "print(arr[1:3])"
      ],
      "metadata": {
        "colab": {
          "base_uri": "https://localhost:8080/"
        },
        "id": "pM1SIBRqJt8B",
        "outputId": "ff2e4e68-e145-4943-d31b-03967ef3b44f"
      },
      "execution_count": null,
      "outputs": [
        {
          "output_type": "stream",
          "name": "stdout",
          "text": [
            "7\n",
            "[3 5]\n"
          ]
        }
      ]
    },
    {
      "cell_type": "markdown",
      "source": [
        "#**INTERMEDIATE NUMPY QUESTION**"
      ],
      "metadata": {
        "id": "sur9qQ5ULA06"
      }
    },
    {
      "cell_type": "code",
      "source": [
        "arr=np.random.randint(1,10,(3,3))\n",
        "arr[arr>5]=0\n",
        "print(arr)"
      ],
      "metadata": {
        "colab": {
          "base_uri": "https://localhost:8080/"
        },
        "id": "oLSaaFmSVWqe",
        "outputId": "14318441-e3a9-455e-c928-9bad96db8dc4"
      },
      "execution_count": 94,
      "outputs": [
        {
          "output_type": "stream",
          "name": "stdout",
          "text": [
            "[[3 0 3]\n",
            " [2 4 0]\n",
            " [0 0 3]]\n"
          ]
        }
      ]
    },
    {
      "cell_type": "code",
      "source": [
        "\n",
        "#sum and multiplication of two array\n",
        "arr1=np.array([2,4,6,8])\n",
        "arr2=np.array([1,3,5,7])\n",
        "print(np.dot(arr1,arr2))\n",
        "print(arr1+arr2)"
      ],
      "metadata": {
        "colab": {
          "base_uri": "https://localhost:8080/"
        },
        "id": "Rtt7kiGxLLe9",
        "outputId": "c30e9a05-42f4-455c-fa13-f6dcde10f878"
      },
      "execution_count": 86,
      "outputs": [
        {
          "output_type": "stream",
          "name": "stdout",
          "text": [
            "100\n",
            "[ 3  7 11 15]\n"
          ]
        }
      ]
    },
    {
      "cell_type": "code",
      "source": [
        "one=np.ones([4,3])\n",
        "add=np.array([10,20,30])\n",
        "print(one+add)"
      ],
      "metadata": {
        "colab": {
          "base_uri": "https://localhost:8080/"
        },
        "id": "DF1e_DezN6yw",
        "outputId": "8ab5da4b-98ce-44db-db78-685470264bf8"
      },
      "execution_count": null,
      "outputs": [
        {
          "output_type": "stream",
          "name": "stdout",
          "text": [
            "[[11. 21. 31.]\n",
            " [11. 21. 31.]\n",
            " [11. 21. 31.]\n",
            " [11. 21. 31.]]\n"
          ]
        }
      ]
    },
    {
      "cell_type": "code",
      "source": [
        "#extractiong second colum and taking mean of its\n",
        "\n",
        "Arr=np.array([[1,2,3],\n",
        "             [4,5,6],\n",
        "              [7,8,9]])\n",
        "marr=Arr[ :,1]\n",
        "print(marr)\n",
        "print(np.mean(marr))"
      ],
      "metadata": {
        "colab": {
          "base_uri": "https://localhost:8080/"
        },
        "id": "p9DkV1jPQ4IQ",
        "outputId": "cc26e1ba-cae1-4e5f-e3ea-b4f13bb73bd8"
      },
      "execution_count": 87,
      "outputs": [
        {
          "output_type": "stream",
          "name": "stdout",
          "text": [
            "[2 5 8]\n",
            "5.0\n"
          ]
        }
      ]
    },
    {
      "cell_type": "code",
      "source": [
        "\n",
        "\n",
        "#using boolen masking to get element greater tha 30\n",
        "arr = np.array([10, 20, 30, 40, 50, 60])\n",
        "\n",
        "# Create a boolean mask for elements greater than 3\n",
        "mask = arr > 30\n",
        "\n",
        "# Apply the mask to filter the array\n",
        "filtered_arr = arr[mask]\n",
        "sqr_arr=np.square(filtered_arr)\n",
        "print(f\"Squared array: {sqr_arr}\")\n",
        "print(f\"Filtered array: {filtered_arr}\")"
      ],
      "metadata": {
        "colab": {
          "base_uri": "https://localhost:8080/"
        },
        "id": "Y554UqQHWZH0",
        "outputId": "9d81065e-ba8f-4249-982f-40081c216cc8"
      },
      "execution_count": 97,
      "outputs": [
        {
          "output_type": "stream",
          "name": "stdout",
          "text": [
            "Squared array: [1600 2500 3600]\n",
            "Filtered array: [40 50 60]\n"
          ]
        }
      ]
    }
  ]
}