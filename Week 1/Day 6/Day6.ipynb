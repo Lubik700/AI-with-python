{
  "nbformat": 4,
  "nbformat_minor": 0,
  "metadata": {
    "colab": {
      "provenance": []
    },
    "kernelspec": {
      "name": "python3",
      "display_name": "Python 3"
    },
    "language_info": {
      "name": "python"
    }
  },
  "cells": [
    {
      "cell_type": "markdown",
      "source": [
        "##**PANDAS AND MATPLOTLIB**"
      ],
      "metadata": {
        "id": "ovarbxFxZTif"
      }
    },
    {
      "cell_type": "markdown",
      "source": [
        "Ex:1 Creating a Pandas Series"
      ],
      "metadata": {
        "id": "TbO2AvNAZz04"
      }
    },
    {
      "cell_type": "code",
      "source": [
        "#Importing pandas module\n",
        "import pandas as pd\n",
        "scores = pd.Series([30,50,29,68,89], index=[\"Math\",\"Physics\",\"Chemistry\",\"Biology\",\"English\"])\n",
        "print(scores)"
      ],
      "metadata": {
        "colab": {
          "base_uri": "https://localhost:8080/"
        },
        "id": "iiX2UHnVZebP",
        "outputId": "d00a9746-dcc8-4211-cd63-32e9930bcbc8"
      },
      "execution_count": null,
      "outputs": [
        {
          "output_type": "stream",
          "name": "stdout",
          "text": [
            "Math         30\n",
            "Physics      50\n",
            "Chemistry    29\n",
            "Biology      68\n",
            "English      89\n",
            "dtype: int64\n"
          ]
        }
      ]
    },
    {
      "cell_type": "markdown",
      "source": [
        "Ex:2 Creating a Pandas DataFrame"
      ],
      "metadata": {
        "id": "RpS1r_5pa4bd"
      }
    },
    {
      "cell_type": "code",
      "source": [
        "#Creating a dictionary\n",
        "data ={\n",
        "    \"Name\":[\"Arrav\",\"Ramesh\",\"Monika\"],\n",
        "    \"CLass\":[7,8,9],\n",
        "    \"Roll\":[1,2,3],\n",
        "    \"Address\":[\"Pokhara\",\"Kathmandu\",\"Butwal\"]\n",
        "}\n",
        "#turning into data frame\n",
        "df=pd.DataFrame(data)\n",
        "print(df)\n",
        "\n",
        "#removing index\n",
        "print(df.to_string(index=False))"
      ],
      "metadata": {
        "colab": {
          "base_uri": "https://localhost:8080/"
        },
        "id": "Rw_WGosTbB_o",
        "outputId": "f75b1122-45ff-45c1-b647-5d576985dda9"
      },
      "execution_count": null,
      "outputs": [
        {
          "output_type": "stream",
          "name": "stdout",
          "text": [
            "  Name  CLass  Roll   Address\n",
            " Arrav      7     1   Pokhara\n",
            "Ramesh      8     2 Kathmandu\n",
            "Monika      9     3   Pokhara\n"
          ]
        }
      ]
    },
    {
      "cell_type": "markdown",
      "source": [
        "EX:3 FILTERING DATA IN A DATA FRAME"
      ],
      "metadata": {
        "id": "Jg8eIJnodcPR"
      }
    },
    {
      "cell_type": "code",
      "source": [
        "data ={\n",
        "    \"Name\":[\"Arrav\",\"Ramesh\",\"Monika\"],\n",
        "    \"CLass\":[7,8,9],\n",
        "    \"Roll\":[1,2,3],\n",
        "    \"Address\":[\"Pokhara\",\"Kathmandu\",\"Pokhara\"]\n",
        "}\n",
        "#turning into data frame\n",
        "\n",
        "#filtering\n",
        "filter=df[df[\"Roll\"]>2]\n",
        "print(filter)"
      ],
      "metadata": {
        "colab": {
          "base_uri": "https://localhost:8080/"
        },
        "id": "J21gJThfdkju",
        "outputId": "30a69acf-158c-48c5-fded-43f2cc9f5d7d"
      },
      "execution_count": null,
      "outputs": [
        {
          "output_type": "stream",
          "name": "stdout",
          "text": [
            "     Name  CLass  Roll  Address\n",
            "2  Monika      9     3  Pokhara\n"
          ]
        }
      ]
    },
    {
      "cell_type": "markdown",
      "source": [
        "Ex:4 REading and Processing a CSV File"
      ],
      "metadata": {
        "id": "NS66zFLfeqdp"
      }
    },
    {
      "cell_type": "code",
      "source": [
        "\n",
        "#Importing I/O\n",
        "import io\n",
        "csv_data=\"\"\"\n",
        "Name,Class,Roll,Address\n",
        "Arav,7,1,Pokhara\n",
        "Ramesh,8,2,Butwal\n",
        "Monika,9,3,Jhapa\n",
        "\"\"\"\n",
        "#converting csv into dataframes\n",
        "df=pd.read_csv(io.StringIO(csv_data))\n",
        "\n",
        "#Filtering the dataframe\n",
        "filter=df[df[\"Class\"]>7]\n",
        "print(filter)\n",
        "\n",
        "\n",
        "#calculating average grade\n",
        "average_class=df['Class'].mean()\n",
        "print(average_class)"
      ],
      "metadata": {
        "colab": {
          "base_uri": "https://localhost:8080/"
        },
        "id": "OZ8UqoTVexGE",
        "outputId": "9a89fc38-72e5-488f-a856-85de40870336"
      },
      "execution_count": null,
      "outputs": [
        {
          "output_type": "stream",
          "name": "stdout",
          "text": [
            "     Name  Class  Roll Address\n",
            "1  Ramesh      8     2  Butwal\n",
            "2  Monika      9     3   Jhapa\n",
            "8.0\n"
          ]
        }
      ]
    },
    {
      "cell_type": "markdown",
      "source": [
        "EX 5: Basic Plotting with Matplotlib"
      ],
      "metadata": {
        "id": "eMdnbO7-hsU6"
      }
    },
    {
      "cell_type": "code",
      "source": [
        "#importing matplotlib\n",
        "import matplotlib.pyplot as plt\n",
        "\n",
        "x=[1,2,3,4,5]\n",
        "y=[2,4,6,8,10]\n",
        "plt.plot(x,y,marker='*')\n",
        "plt.title('Plotting Example')#title for graph\n",
        "plt.xlabel('X-axis')#x axis label\n",
        "plt.ylabel('Y-axis')#y axis label\n",
        "plt.grid(True)#shows grid\n",
        "plt.savefig('My-first-plot.png')#download the graph in png format\n",
        "plt.show()\n"
      ],
      "metadata": {
        "colab": {
          "base_uri": "https://localhost:8080/",
          "height": 472
        },
        "id": "UH36-SkfhyYV",
        "outputId": "473c20af-b0fc-4b6b-c795-8990e75dbdd6"
      },
      "execution_count": null,
      "outputs": [
        {
          "output_type": "display_data",
          "data": {
            "text/plain": [
              "<Figure size 640x480 with 1 Axes>"
            ],
            "image/png": "[encoded data removed]"
          },
          "metadata": {}
        }
      ]
    },
    {
      "cell_type": "markdown",
      "source": [
        "Ex:6 Visualizing the DataFrames with Matplotlib"
      ],
      "metadata": {
        "id": "imShq_34kCTK"
      }
    },
    {
      "cell_type": "code",
      "source": [
        "data={\n",
        "    \"Name\":[\"Arrav\",\"Ramesh\",\"Monika\",\"Ashim\"],\n",
        "    \"Class\":[7,8,9,12],\n",
        "}\n",
        "df=pd.DataFrame(data) #dictionary to dataframe\n",
        "plt.bar(df[\"Name\"],df[\"Class\"]) #into bar\n",
        "plt.title(\"Bar Plot\")\n",
        "plt.xlabel(\"Name\")\n",
        "plt.ylabel(\"Class\")\n",
        "plt.show()"
      ],
      "metadata": {
        "colab": {
          "base_uri": "https://localhost:8080/",
          "height": 472
        },
        "id": "0JQAIAHzkImu",
        "outputId": "77e8dca0-3b57-4a9a-93d9-68705e0a02d8"
      },
      "execution_count": null,
      "outputs": [
        {
          "output_type": "display_data",
          "data": {
            "text/plain": [
              "<Figure size 640x480 with 1 Axes>"
            ],
            "image/png": "[encoded data removed]"
          },
          "metadata": {}
        }
      ]
    },
    {
      "cell_type": "markdown",
      "source": [
        "#**TASK**"
      ],
      "metadata": {
        "id": "06-Wfc_HXhjP"
      }
    },
    {
      "cell_type": "markdown",
      "source": [
        "Task:1"
      ],
      "metadata": {
        "id": "F_btza66Yfvs"
      }
    },
    {
      "cell_type": "code",
      "source": [
        "#task 1: Create a Pandas Series with values [10, 20, 30, 40] and indices [”A”, ”B”, ”C”, ”D”]. Print the Series.\n",
        "import pandas as pd\n",
        "s=pd.Series([10,20,30,40,],index=['A', 'B', 'C', 'D'])\n",
        "print(s)\n"
      ],
      "metadata": {
        "colab": {
          "base_uri": "https://localhost:8080/"
        },
        "id": "5121T-bwXmaN",
        "outputId": "9466a3f7-dc0c-433d-8c79-dc90962eb38b"
      },
      "execution_count": null,
      "outputs": [
        {
          "output_type": "stream",
          "name": "stdout",
          "text": [
            "A    10\n",
            "B    20\n",
            "C    30\n",
            "D    40\n",
            "dtype: int64\n"
          ]
        }
      ]
    },
    {
      "cell_type": "markdown",
      "source": [
        "Task: 2"
      ],
      "metadata": {
        "id": "JEnH-lwQYi6j"
      }
    },
    {
      "cell_type": "code",
      "source": [
        "#Task 2: Create a DataFrame with columns ”City” ([”Paris”, ”Tokyo”, ”Sydney”]) and ”Population” ([2.1, 37.4, 5.3]). Print the DataFrame.\n",
        "df=pd.DataFrame({\n",
        "    \"City\":['Paris','Tokyo','Sydney'],\n",
        "    \"Population\":[2.1, 37.4, 5.3]\n",
        "})\n",
        "print(df)\n",
        "\n",
        "print(df.to_string(index=False))"
      ],
      "metadata": {
        "colab": {
          "base_uri": "https://localhost:8080/"
        },
        "id": "tGo-9Wu4YpGD",
        "outputId": "d54aceb3-2f65-45ef-e465-56643f25f76f"
      },
      "execution_count": null,
      "outputs": [
        {
          "output_type": "stream",
          "name": "stdout",
          "text": [
            "     City  Population\n",
            "0   Paris         2.1\n",
            "1   Tokyo        37.4\n",
            "2  Sydney         5.3\n",
            "  City  Population\n",
            " Paris         2.1\n",
            " Tokyo        37.4\n",
            "Sydney         5.3\n"
          ]
        }
      ]
    },
    {
      "cell_type": "markdown",
      "source": [
        "Task:3"
      ],
      "metadata": {
        "id": "lCH7pWJ5Z8p0"
      }
    },
    {
      "cell_type": "code",
      "source": [
        "##Task 3: Create a DataFrame with columns ”Name” ([”Eve”, ”Frank”, ”Grace”]) and ”Age” ([19, 23, 20]). Filter rows where Age is greater than 20 and print the result.\n",
        "import pandas as pd\n",
        "\n",
        "df= pd.DataFrame({\n",
        "    \"Name\":['Eve', 'Frank', 'Grace'],\n",
        "    \"Age\":[19, 23, 20]\n",
        "})\n",
        "fil=df[df['Age']>20]\n",
        "print(fil)"
      ],
      "metadata": {
        "colab": {
          "base_uri": "https://localhost:8080/"
        },
        "id": "q3Mo_U4aaC98",
        "outputId": "32111640-6ee2-4839-d60b-1b7373f6e6d9"
      },
      "execution_count": 6,
      "outputs": [
        {
          "output_type": "stream",
          "name": "stdout",
          "text": [
            "    Name  Age\n",
            "1  Frank   23\n"
          ]
        }
      ]
    },
    {
      "cell_type": "markdown",
      "source": [
        "Task: 4"
      ],
      "metadata": {
        "id": "euajepXWmoWP"
      }
    },
    {
      "cell_type": "code",
      "source": [
        "#Task 4: Simulate a CSV string with columns ”Product” ([”Apple”, ”Banana”,\n",
        "# ”Orange”]) and ”Price” ([1.0, 0.5, 0.75]). Read it into a DataFrame and print the\n",
        "# sum of prices using df[”Price”].sum().\n",
        "\n",
        "import io\n",
        "csv_data=\"\"\"\n",
        "Product,Price\n",
        "Apple,1.0\n",
        "Banana,0.5\n",
        "Orange,0.75\n",
        "\"\"\"\n",
        "\n",
        "df=pd.read_csv(io.StringIO(csv_data))\n",
        "sum=df['Price'].sum()\n",
        "print(sum)\n",
        "\n"
      ],
      "metadata": {
        "colab": {
          "base_uri": "https://localhost:8080/"
        },
        "id": "fVTyiXrxmqQV",
        "outputId": "0864967f-517a-414d-a982-16cd698ef628"
      },
      "execution_count": 7,
      "outputs": [
        {
          "output_type": "stream",
          "name": "stdout",
          "text": [
            "2.25\n"
          ]
        }
      ]
    },
    {
      "cell_type": "markdown",
      "source": [
        "Task: 5"
      ],
      "metadata": {
        "id": "NdDlSdj_nws1"
      }
    },
    {
      "cell_type": "code",
      "source": [
        "## Task 5: Create a line plot with x-values [0, 1, 2, 3] and y-values [0, 1, 4, 9]. Add\n",
        "# a title, labels, and grid, then save it as squareplot.png.\n",
        "import matplotlib.pyplot as plt\n",
        "x=[0, 1, 2, 3]\n",
        "y=[0, 1, 4, 9]\n",
        "plt.plot(x,y)\n",
        "plt.show()"
      ],
      "metadata": {
        "colab": {
          "base_uri": "https://localhost:8080/",
          "height": 430
        },
        "id": "0l6Znvv8nyUQ",
        "outputId": "7e55bdaa-9879-4761-939b-f06df2298faa"
      },
      "execution_count": 9,
      "outputs": [
        {
          "output_type": "display_data",
          "data": {
            "text/plain": [
              "<Figure size 640x480 with 1 Axes>"
            ],
            "image/png": "[encoded data removed]"
          },
          "metadata": {}
        }
      ]
    },
    {
      "cell_type": "markdown",
      "source": [
        "Task: 6"
      ],
      "metadata": {
        "id": "hQBiA8CGx2sD"
      }
    },
    {
      "cell_type": "code",
      "source": [
        "# Task 6: Create a DataFrame with columns ”City” ([”London”, ”Paris”,\n",
        "# ”Tokyo”]) and ”Population” ([9.0, 2.1, 37.4]). Create a bar plot\n",
        "# of Population vs. City, add labels and a title, and save it as populationplot.png.\n",
        "\n",
        "df=pd.DataFrame({'City':['London', 'Paris','Tokyo'],\n",
        "                 'Population': [9.0, 2.1, 37.4]})\n",
        "plt.bar(df['City'],df['Population'])\n",
        "plt.title(\"Population vs City\")\n",
        "plt.xlabel(\"City\")\n",
        "plt.ylabel('Population')\n",
        "plt.show()"
      ],
      "metadata": {
        "colab": {
          "base_uri": "https://localhost:8080/",
          "height": 472
        },
        "id": "MsvdgmVpx6IF",
        "outputId": "ffa1faa2-925e-4108-cf0e-b55bdc6e6197"
      },
      "execution_count": 14,
      "outputs": [
        {
          "output_type": "display_data",
          "data": {
            "text/plain": [
              "<Figure size 640x480 with 1 Axes>"
            ],
            "image/png": "[encoded data removed]"
          },
          "metadata": {}
        }
      ]
    }
  ]
}