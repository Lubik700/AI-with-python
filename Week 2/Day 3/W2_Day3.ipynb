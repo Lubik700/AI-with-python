{
  "nbformat": 4,
  "nbformat_minor": 0,
  "metadata": {
    "colab": {
      "provenance": []
    },
    "kernelspec": {
      "name": "python3",
      "display_name": "Python 3"
    },
    "language_info": {
      "name": "python"
    }
  },
  "cells": [
    {
      "cell_type": "markdown",
      "source": [
        "#WEEK 2 : DAY 3"
      ],
      "metadata": {
        "id": "HgKc2sHM9mNc"
      }
    },
    {
      "cell_type": "markdown",
      "source": [
        "Ex:1 THEORETICAL PROBABILITY"
      ],
      "metadata": {
        "id": "_XbPiZ6dF7SL"
      }
    },
    {
      "cell_type": "code",
      "execution_count": null,
      "metadata": {
        "colab": {
          "base_uri": "https://localhost:8080/"
        },
        "id": "0M2v3DeS9dIx",
        "outputId": "57429295-295a-46e7-b6e4-82b7390e8f8e"
      },
      "outputs": [
        {
          "output_type": "stream",
          "name": "stdout",
          "text": [
            "0.16666666666666666\n"
          ]
        }
      ],
      "source": [
        "# Declaring fav and total outcome for rolling 1 on a die!\n",
        "fav_outcome=1\n",
        "total_ooutcome=6\n",
        "probability=fav_outcome/total_ooutcome\n",
        "print(probability)"
      ]
    },
    {
      "cell_type": "markdown",
      "source": [
        "Ex:2 EXPERIMENTAL PROBABILITY"
      ],
      "metadata": {
        "id": "YMnrSQR8GMkB"
      }
    },
    {
      "cell_type": "code",
      "source": [
        "import random\n",
        "trials=100\n",
        "heads=0\n",
        "for _ in range(trials):\n",
        "  if random.choice([\"H\",\"T\"])==\"H\":\n",
        "    heads+=1\n",
        "probability=heads/trials\n",
        "print(probability)"
      ],
      "metadata": {
        "colab": {
          "base_uri": "https://localhost:8080/"
        },
        "id": "_gRxzl2PCGE2",
        "outputId": "357e564e-ad03-43b8-d455-3d85c293c184"
      },
      "execution_count": null,
      "outputs": [
        {
          "output_type": "stream",
          "name": "stdout",
          "text": [
            "0.57\n"
          ]
        }
      ]
    },
    {
      "cell_type": "markdown",
      "source": [
        "Ex:3 CONDITIONAL PROBABILITY"
      ],
      "metadata": {
        "id": "RXswXgQnGYBR"
      }
    },
    {
      "cell_type": "code",
      "source": [
        "face_card=12\n",
        "king=4\n",
        "cond_prob=king/face_card\n",
        "print(\"Probablity og getting a king givrn it is a fave card is\",cond_prob)"
      ],
      "metadata": {
        "colab": {
          "base_uri": "https://localhost:8080/"
        },
        "id": "25njbJcNDH6F",
        "outputId": "8f98d490-d7f9-4fa9-a7d1-951ab81e9221"
      },
      "execution_count": null,
      "outputs": [
        {
          "output_type": "stream",
          "name": "stdout",
          "text": [
            "Probablity og getting a king givrn it is a fave card is 0.3333333333333333\n"
          ]
        }
      ]
    },
    {
      "cell_type": "markdown",
      "source": [
        "Exercise 4: Addition Rule"
      ],
      "metadata": {
        "id": "NWNeaNKJGseN"
      }
    },
    {
      "cell_type": "code",
      "source": [
        "#mutually exclusive events\n",
        "\n",
        "prob_even=3/6\n",
        "prob_one=1/6\n",
        "prob_even_or_one=prob_even+prob_one\n",
        "print(prob_even_or_one)"
      ],
      "metadata": {
        "colab": {
          "base_uri": "https://localhost:8080/"
        },
        "id": "lGEpi7OuDrLq",
        "outputId": "c1afcbd0-297b-454c-ecd7-e8d5e7cc4799"
      },
      "execution_count": null,
      "outputs": [
        {
          "output_type": "stream",
          "name": "stdout",
          "text": [
            "0.6666666666666666\n"
          ]
        }
      ]
    },
    {
      "cell_type": "markdown",
      "source": [
        "Exercise 5: Multiplication Rule (Independent Events)"
      ],
      "metadata": {
        "id": "xq9nZgY7G0JA"
      }
    },
    {
      "cell_type": "code",
      "source": [
        " #Note!!!! For independent events, the probability of both occurring is\n",
        " # the product of their probabilities.\n",
        " prob_head=0.5\n",
        " prob_two_heads=prob_head*prob_head\n",
        " print(prob_head)\n"
      ],
      "metadata": {
        "colab": {
          "base_uri": "https://localhost:8080/"
        },
        "id": "U-TmBBX2EHeX",
        "outputId": "58db0d0f-0b2d-4df7-b1b5-d4d48f583688"
      },
      "execution_count": null,
      "outputs": [
        {
          "output_type": "stream",
          "name": "stdout",
          "text": [
            "0.25\n"
          ]
        }
      ]
    },
    {
      "cell_type": "markdown",
      "source": [
        "Ex: 6 Dependent Events"
      ],
      "metadata": {
        "id": "6LpV0qcbG3jO"
      }
    },
    {
      "cell_type": "code",
      "source": [
        "#Lets calculate the probability of drawing two aces without replacement from a\n",
        "# deck of 52 cards\n",
        "\n",
        "total_cards=52\n",
        "ace_cards=4\n",
        "\n",
        "prob_first_ace= ace_cards/total_cards\n",
        "prob_second_ace=(ace_cards-1)/(total_cards-1)\n",
        "\n",
        "prob_two_aces=prob_first_ace*prob_second_ace\n",
        "\n",
        "print(prob_two_aces)"
      ],
      "metadata": {
        "colab": {
          "base_uri": "https://localhost:8080/"
        },
        "id": "G7SETBYcEVZv",
        "outputId": "a301ca26-8790-4666-aa2f-e8a3d7eb1d86"
      },
      "execution_count": null,
      "outputs": [
        {
          "output_type": "stream",
          "name": "stdout",
          "text": [
            "0.004524886877828055\n"
          ]
        }
      ]
    },
    {
      "cell_type": "markdown",
      "source": [
        "#TASK"
      ],
      "metadata": {
        "id": "oRp_N8jfIqA3"
      }
    },
    {
      "cell_type": "code",
      "source": [
        "#task 1\n",
        "red_card=26\n",
        "standard_deck=52\n",
        "prob_red=red_card/standard_deck\n",
        "print(prob_red)"
      ],
      "metadata": {
        "colab": {
          "base_uri": "https://localhost:8080/"
        },
        "id": "hD44ihSDI0rl",
        "outputId": "fca97089-7b6f-47da-b7b2-5658dbfc4b58"
      },
      "execution_count": null,
      "outputs": [
        {
          "output_type": "stream",
          "name": "stdout",
          "text": [
            "0.5\n"
          ]
        }
      ]
    },
    {
      "cell_type": "code",
      "source": [
        "#IN-CLASS TASK\n",
        "# A standard deck has 52 cards. There are 12 face cards (Jack, Queen, King – 4\n",
        "#of each).\n",
        "# What is the probability that a card is a King given that it’s a face card?"
      ],
      "metadata": {
        "id": "udbbOoBYJCzp"
      },
      "execution_count": null,
      "outputs": []
    },
    {
      "cell_type": "code",
      "source": [
        "# Out of 100 days, it rained on 30 days."
      ],
      "metadata": {
        "id": "CNgCWerdJNbw"
      },
      "execution_count": null,
      "outputs": []
    },
    {
      "cell_type": "code",
      "source": [
        "total_days=100\n",
        "rainy_days=30\n",
        "prob_rainy=rainy_days/total_days\n",
        "print(prob_rainy)\n",
        "\n",
        "#On 25 of those rainy days, a person carried an umbrella.\n",
        "# What is the probability that they carried an umbrella given that it was raining?\n",
        "prob_umbrella=25\n",
        "prob_umbrella_given_rainy=prob_umbrella/rainy_days\n",
        "print(prob_umbrella_given_rainy)\n",
        "\n"
      ],
      "metadata": {
        "colab": {
          "base_uri": "https://localhost:8080/"
        },
        "id": "9L0DqTDNJc2V",
        "outputId": "dda6c632-415a-469d-db40-182f7a560ea8"
      },
      "execution_count": null,
      "outputs": [
        {
          "output_type": "stream",
          "name": "stdout",
          "text": [
            "0.3\n",
            "0.8333333333333334\n"
          ]
        }
      ]
    },
    {
      "cell_type": "code",
      "source": [
        "# Out of 80 students, 50 studied for the exam.\n",
        "# Out of those 50, 45 passed.\n",
        "# What is the probability a student passed given that they studied?\n",
        "\n",
        "studied_student=50\n",
        "passed_student=45\n",
        "prob_passed=passed_student/studied_student\n",
        "print(prob_passed)"
      ],
      "metadata": {
        "colab": {
          "base_uri": "https://localhost:8080/"
        },
        "id": "TcM4alcNJgaI",
        "outputId": "d4ae866a-4e9d-4bc0-d4f2-73fd9fd32c4a"
      },
      "execution_count": null,
      "outputs": [
        {
          "output_type": "stream",
          "name": "stdout",
          "text": [
            "0.9\n"
          ]
        }
      ]
    },
    {
      "cell_type": "code",
      "source": [
        "# Task 4: Calculate the probability of drawing a heart or a club from a deck (13\n",
        "# hearts, 13 clubs, mutually exclusive). Print the result.\n",
        "heart_card=13\n",
        "club_card=13\n",
        "total_card=52\n",
        "heart_cardORclub_card=(heart_card+club_card)/total_card\n",
        "print(heart_cardORclub_card)\n"
      ],
      "metadata": {
        "colab": {
          "base_uri": "https://localhost:8080/"
        },
        "id": "hM8dD9uVKpmV",
        "outputId": "11c2feb1-ef57-45a1-a78c-e09d425f65b6"
      },
      "execution_count": null,
      "outputs": [
        {
          "output_type": "stream",
          "name": "stdout",
          "text": [
            "0.5\n"
          ]
        }
      ]
    },
    {
      "cell_type": "code",
      "source": [
        "# Task 5: Calculate the probability of rolling a 6 twice in a row with a six-sided\n",
        "# die. Print the result.\n",
        "probability = (1/6) * (1/6)\n",
        "print(probability)\n",
        "\n",
        "# Question: What is the probability of getting head on a coin toss and 7 on a 6-sided die roll?\n",
        "prob_heads = 1 / 2\n",
        "prob_seven = 0  # A 6-sided die cannot roll a 7\n",
        "combined_prob = prob_heads * prob_seven\n",
        "print(combined_prob)"
      ],
      "metadata": {
        "colab": {
          "base_uri": "https://localhost:8080/"
        },
        "id": "mx9_Bv4TBztK",
        "outputId": "70853fa2-9dca-42f2-bcf0-cd5c34ed36c8"
      },
      "execution_count": 1,
      "outputs": [
        {
          "output_type": "stream",
          "name": "stdout",
          "text": [
            "0.027777777777777776\n",
            "0.0\n"
          ]
        }
      ]
    },
    {
      "cell_type": "code",
      "source": [
        "# Task 6: Calculate the probability of drawing two red cards without replace-\n",
        "# ment from a deck (26 red cards, 52 total). Print the result.\n",
        "\n",
        "prob_first_red = 26 / 52\n",
        "prob_second_red = 25 / 51\n",
        "combined_prob = prob_first_red * prob_second_red\n",
        "print(combined_prob)"
      ],
      "metadata": {
        "colab": {
          "base_uri": "https://localhost:8080/"
        },
        "id": "DaDc58YOCpUf",
        "outputId": "c143c690-3fe8-4b9d-9309-af1d642ea020"
      },
      "execution_count": 2,
      "outputs": [
        {
          "output_type": "stream",
          "name": "stdout",
          "text": [
            "0.24509803921568626\n"
          ]
        }
      ]
    }
  ]
}